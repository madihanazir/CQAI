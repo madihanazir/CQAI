{
 "cells": [
  {
   "cell_type": "code",
   "execution_count": 6,
   "metadata": {},
   "outputs": [],
   "source": [
    "import os\n",
    "import requests\n",
    "import matplotlib.pyplot as plt\n",
    "#from dotenv import load_dotenv\n",
    "#load_dotenv()\n"
   ]
  },
  {
   "cell_type": "code",
   "execution_count": 7,
   "metadata": {},
   "outputs": [],
   "source": [
    "access_token= os.getenv(\"Access_Token\")\n",
    "API_URL= \"https://api-inference.huggingface.co/models/stabilityai/stable-diffusion-xl-base-1.0\"\n",
    "headers={\"Authorization\": f\"Bearer{access_token}\"}\n"
   ]
  },
  {
   "cell_type": "code",
   "execution_count": 10,
   "metadata": {},
   "outputs": [],
   "source": [
    "def query(payload):\n",
    "    response= requests.post(API_URL,headers=headers,json=payload)\n",
    "    return response.content\n",
    "#image_bytes = query({\n",
    "\t#\"inputs\": \"Astronaut riding a horse\",\n",
    "#})\n",
    "# You can access the image with PIL.Image for example\n",
    "#import io\n",
    "#from PIL import Image\n",
    "#image = Image.open(io.BytesIO(image_bytes))"
   ]
  }
 ],
 "metadata": {
  "language_info": {
   "name": "python"
  }
 },
 "nbformat": 4,
 "nbformat_minor": 2
}
